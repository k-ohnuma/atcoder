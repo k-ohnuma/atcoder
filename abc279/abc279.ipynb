{
 "cells": [
  {
   "cell_type": "code",
   "execution_count": null,
   "metadata": {},
   "outputs": [],
   "source": [
    "#A\n",
    "S = input()\n",
    "count = 0\n",
    "for word in S:\n",
    "    if word == 'v':\n",
    "        count += 1\n",
    "    elif word == 'w':\n",
    "        count += 2\n",
    "        \n",
    "print(count)"
   ]
  },
  {
   "cell_type": "code",
   "execution_count": null,
   "metadata": {},
   "outputs": [],
   "source": [
    "#B\n",
    "S = input()\n",
    "T = input()\n",
    " \n",
    "if T in S:\n",
    "    print('Yes')\n",
    "else:\n",
    "    print('No')"
   ]
  },
  {
   "cell_type": "code",
   "execution_count": null,
   "metadata": {},
   "outputs": [],
   "source": [
    "#C\n",
    "H, W = map(int, input().split())\n",
    "S = []\n",
    "T = []\n",
    "for _ in range(H):\n",
    "    word = input()\n",
    "    tmp = []\n",
    "    for w in word:\n",
    "        tmp.append(w)\n",
    "    S.append(tmp)\n",
    " \n",
    "for _ in range(H):\n",
    "    word = input()\n",
    "    tmp_t = []\n",
    "    for w in word:\n",
    "        tmp_t.append(w)\n",
    "    T.append(tmp_t)\n",
    " \n",
    "S_col = []\n",
    "T_col = []\n",
    " \n",
    "for j in range(W):\n",
    "    s_tmp = []\n",
    "    t_tmp = []\n",
    "    for i in range(H):\n",
    "        s_tmp.append(S[i][j])\n",
    "        t_tmp.append(T[i][j])\n",
    "    S_col.append(s_tmp) \n",
    "    T_col.append(t_tmp)\n",
    "    \n",
    "S_col.sort()\n",
    "T_col.sort()\n",
    " \n",
    "# print(S_col)\n",
    "# print(T_col)\n",
    " \n",
    "if S_col == T_col:\n",
    "    print('Yes')\n",
    "else:\n",
    "    print('No')"
   ]
  },
  {
   "cell_type": "code",
   "execution_count": null,
   "metadata": {},
   "outputs": [],
   "source": [
    "#D\n",
    "import numpy as np\n",
    "ans = None\n",
    "A, B = map(float, input().split())\n",
    "tmp = (-2 / 3) * np.log((2 * B) / A)\n",
    "g = int(np.e ** tmp)\n",
    " \n",
    "if g == 0:\n",
    "    g = 1\n",
    "ans = min(B * (g - 1) + (A / (g ** (1 / 2))), B * (g) + (A / ((g + 1) ** (1 / 2))))\n",
    "print(ans)"
   ]
  }
 ],
 "metadata": {
  "language_info": {
   "name": "python"
  },
  "orig_nbformat": 4
 },
 "nbformat": 4,
 "nbformat_minor": 2
}
