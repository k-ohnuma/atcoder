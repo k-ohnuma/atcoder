{
 "cells": [
  {
   "cell_type": "code",
   "execution_count": null,
   "metadata": {},
   "outputs": [],
   "source": [
    "S = input()\n",
    "ans = -2\n",
    "for i in range(len(S)):\n",
    "    if S[i] == 'a':\n",
    "        ans = i\n",
    "        \n",
    "print(ans + 1)"
   ]
  },
  {
   "cell_type": "code",
   "execution_count": null,
   "metadata": {},
   "outputs": [],
   "source": [
    "N, M = map(int, input().split())\n",
    "ls = [[] for _ in range(N)]\n",
    "\n",
    "for i in range(M):\n",
    "    A, B = map(int, input().split())\n",
    "    ls[B - 1] += [A]\n",
    "    ls[A - 1] += [B]\n",
    "    \n",
    "for L in ls:\n",
    "    lenL = len(L)\n",
    "    if lenL == 0:\n",
    "        print(0)\n",
    "        continue\n",
    "    L.sort()\n",
    "    print(lenL, *L)"
   ]
  },
  {
   "cell_type": "code",
   "execution_count": null,
   "metadata": {},
   "outputs": [],
   "source": [
    "N = int(input())\n",
    "A = list(map(int, input().split()))\n",
    "\n",
    "sum = A[0]\n",
    "\n",
    "for i in range(1, N):\n",
    "    sum ^= A[i]\n",
    "if sum == 0:\n",
    "    print('Second')\n",
    "else:\n",
    "    print('First')\n"
   ]
  }
 ],
 "metadata": {
  "kernelspec": {
   "display_name": "Python 3.9.13 ('base')",
   "language": "python",
   "name": "python3"
  },
  "language_info": {
   "name": "python",
   "version": "3.9.13"
  },
  "orig_nbformat": 4,
  "vscode": {
   "interpreter": {
    "hash": "40d3a090f54c6569ab1632332b64b2c03c39dcf918b08424e98f38b5ae0af88f"
   }
  }
 },
 "nbformat": 4,
 "nbformat_minor": 2
}
