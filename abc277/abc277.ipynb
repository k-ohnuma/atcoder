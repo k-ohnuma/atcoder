{
 "cells": [
  {
   "cell_type": "code",
   "execution_count": null,
   "metadata": {},
   "outputs": [],
   "source": [
    "#A\n",
    "N, X = map(int, input().split())\n",
    "P = list(map(int, input().split()))\n",
    " \n",
    "for i in range(N):\n",
    "    if P[i] == X:\n",
    "        print(i + 1)\n",
    "        break"
   ]
  },
  {
   "cell_type": "code",
   "execution_count": null,
   "metadata": {},
   "outputs": [],
   "source": [
    "#B\n",
    "N = int(input())\n",
    "S = [None] * N\n",
    "word1 = [None] * N\n",
    "word2 = [None] * N\n",
    "\n",
    "ans_flag = True\n",
    "\n",
    "rest1 = ['H', 'D', 'C', 'S']\n",
    "rest2 = ['A', '2', '3', '4', '5', '6', '7', '8', '9', 'T', 'J', 'Q', 'K']\n",
    "\n",
    "for i in range(N):\n",
    "    S[i] = input()\n",
    "    word1[i] = S[i][0]\n",
    "    word2[i] = S[i][1]\n",
    "    \n",
    "seted_S = list(set(S))\n",
    "seted_S.sort()\n",
    "S.sort()\n",
    "\n",
    "if S != seted_S:\n",
    "    ans_flag = False\n",
    "    \n",
    "for X, Y in zip(word1, word2):\n",
    "    # print(X in rest1)\n",
    "    # print(Y in rest2)\n",
    "    if X not in rest1 or Y not in rest2:\n",
    "        ans_flag = False\n",
    "        break\n",
    "\n",
    "print('Yes') if ans_flag else print('No')\n"
   ]
  },
  {
   "cell_type": "code",
   "execution_count": null,
   "metadata": {},
   "outputs": [],
   "source": []
  }
 ],
 "metadata": {
  "kernelspec": {
   "display_name": "Python 3.9.13 ('base')",
   "language": "python",
   "name": "python3"
  },
  "language_info": {
   "name": "python",
   "version": "3.9.13"
  },
  "orig_nbformat": 4,
  "vscode": {
   "interpreter": {
    "hash": "40d3a090f54c6569ab1632332b64b2c03c39dcf918b08424e98f38b5ae0af88f"
   }
  }
 },
 "nbformat": 4,
 "nbformat_minor": 2
}
