{
 "cells": [
  {
   "cell_type": "code",
   "execution_count": null,
   "metadata": {},
   "outputs": [],
   "source": [
    "#A\n",
    "def shift(A_list, K):\n",
    "    for _ in range(K):\n",
    "        A_list = A_list[1:] + [0]    \n",
    "    return A_list\n",
    "\n",
    "N, K = map(int, input().split())\n",
    "A_list = list(map(int, input().split()))\n",
    "\n",
    "ans = shift(A_list, K)\n",
    "print(*ans)"
   ]
  },
  {
   "cell_type": "code",
   "execution_count": null,
   "metadata": {},
   "outputs": [],
   "source": [
    "#B\n",
    "H, M = map(int, input().split())\n",
    "A = H // 10\n",
    "B = H % 10\n",
    "C = M // 10\n",
    "D = M % 10\n",
    "\n",
    "ans = []\n",
    "\n",
    "while True:\n",
    "    A = H // 10\n",
    "    B = H % 10\n",
    "    C = M // 10\n",
    "    D = M % 10\n",
    "    #間違えやすい時間かの判定\n",
    "    B, C = C, B\n",
    "    if 10 * A + B <= 23 and 10 * C + D <= 59:\n",
    "        ans.append(10 * A + C)\n",
    "        ans.append(10 * B + D)\n",
    "        break\n",
    "    #時間を1分進ませる\n",
    "    if M == 59:\n",
    "        if H == 23:\n",
    "            M = 0\n",
    "            H = 0\n",
    "        else:\n",
    "            H += 1\n",
    "            M = 0\n",
    "    else:\n",
    "        M += 1\n",
    "        \n",
    "print(*ans)"
   ]
  },
  {
   "cell_type": "code",
   "execution_count": null,
   "metadata": {},
   "outputs": [],
   "source": []
  },
  {
   "cell_type": "code",
   "execution_count": null,
   "metadata": {},
   "outputs": [],
   "source": []
  }
 ],
 "metadata": {
  "kernelspec": {
   "display_name": "Python 3.9.13 ('base')",
   "language": "python",
   "name": "python3"
  },
  "language_info": {
   "codemirror_mode": {
    "name": "ipython",
    "version": 3
   },
   "file_extension": ".py",
   "mimetype": "text/x-python",
   "name": "python",
   "nbconvert_exporter": "python",
   "pygments_lexer": "ipython3",
   "version": "3.9.13"
  },
  "orig_nbformat": 4,
  "vscode": {
   "interpreter": {
    "hash": "40d3a090f54c6569ab1632332b64b2c03c39dcf918b08424e98f38b5ae0af88f"
   }
  }
 },
 "nbformat": 4,
 "nbformat_minor": 2
}
