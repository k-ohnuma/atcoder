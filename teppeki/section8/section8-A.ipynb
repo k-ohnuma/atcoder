{
 "cells": [
  {
   "cell_type": "code",
   "execution_count": null,
   "metadata": {},
   "outputs": [],
   "source": [
    "#A51\n",
    "from collections import deque\n",
    "\n",
    "Q = int(input())\n",
    "queries = [input().split() for _ in range(Q)]\n",
    "\n",
    "S = deque()\n",
    "for q in queries:\n",
    "    if q[0] == '1':\n",
    "        S.append(q[1])\n",
    "    elif q[0] == '2':\n",
    "        print(S[-1])\n",
    "    elif q[0] == '3':\n",
    "        S.pop()"
   ]
  },
  {
   "cell_type": "code",
   "execution_count": null,
   "metadata": {},
   "outputs": [],
   "source": [
    "#A52\n",
    "from collections import deque\n",
    "\n",
    "Q = int(input())\n",
    "queries = [input().split() for _ in range(Q)]\n",
    "\n",
    "S = deque()\n",
    "\n",
    "for q in queries:\n",
    "    if q[0] == '1':\n",
    "        S.append(q[1])\n",
    "    elif q[0] == '2':\n",
    "        print(S[0])\n",
    "    elif q[0] == '3':\n",
    "        S.popleft()"
   ]
  },
  {
   "cell_type": "code",
   "execution_count": null,
   "metadata": {},
   "outputs": [],
   "source": [
    "#A53\n",
    "import heapq\n",
    "\n",
    "Q = int(input())\n",
    "queries = [input().split() for _ in range(Q)]\n",
    "\n",
    "T = []\n",
    "for q in queries:\n",
    "    if q[0] == '1':\n",
    "        heapq.heappush(T, int(q[1]))\n",
    "    if q[0] == '2':\n",
    "        print(T[0])\n",
    "    if q[0] == '3':\n",
    "        heapq.heappop(T)\n",
    "        \n",
    "print(T)"
   ]
  },
  {
   "cell_type": "code",
   "execution_count": null,
   "metadata": {},
   "outputs": [],
   "source": [
    "N, Q = map(int, input().split())\n",
    "S = input()\n",
    " \n",
    "#aを1としたコードを取得\n",
    "T = list(map(lambda x: ord(x) - ord('a') + 1, S))\n",
    " \n",
    "#100^nを前計算\n",
    "MOD = 2147483647\n",
    " \n",
    "power100 = [None] * (N + 1)\n",
    "power100[0] = 1\n",
    " \n",
    "for i in range(N):\n",
    "    power100[i + 1] = power100[i] * 100 % MOD\n",
    "    \n",
    "H = [None] * (N + 1)\n",
    "H[0] = 0\n",
    " \n",
    "for i in range(N):\n",
    "    H[i + 1] = (H[i] * 100 + T[i]) % MOD\n",
    "    \n",
    "def hash_value(l, r):\n",
    "    return (H[r] - H[l - 1] * power100[r - l + 1]) % MOD\n",
    " \n",
    "for _ in range(Q):\n",
    "    a, b, c, d = map(int, input().split())\n",
    "    hash1 = hash_value(a, b)\n",
    "    hash2 = hash_value(c, d)\n",
    "    \n",
    "    print('Yes') if hash1 == hash2 else print('No')"
   ]
  },
  {
   "cell_type": "code",
   "execution_count": null,
   "metadata": {},
   "outputs": [],
   "source": []
  },
  {
   "cell_type": "code",
   "execution_count": null,
   "metadata": {},
   "outputs": [],
   "source": []
  }
 ],
 "metadata": {
  "kernelspec": {
   "display_name": "Python 3.9.13 ('base')",
   "language": "python",
   "name": "python3"
  },
  "language_info": {
   "name": "python",
   "version": "3.9.13"
  },
  "orig_nbformat": 4,
  "vscode": {
   "interpreter": {
    "hash": "40d3a090f54c6569ab1632332b64b2c03c39dcf918b08424e98f38b5ae0af88f"
   }
  }
 },
 "nbformat": 4,
 "nbformat_minor": 2
}
