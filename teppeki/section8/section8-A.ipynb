{
 "cells": [
  {
   "cell_type": "code",
   "execution_count": null,
   "metadata": {},
   "outputs": [],
   "source": [
    "#A51\n",
    "from collections import deque\n",
    "\n",
    "Q = int(input())\n",
    "queries = [input().split() for _ in range(Q)]\n",
    "\n",
    "S = deque()\n",
    "for q in queries:\n",
    "    if q[0] == '1':\n",
    "        S.append(q[1])\n",
    "    elif q[0] == '2':\n",
    "        print(S[-1])\n",
    "    elif q[0] == '3':\n",
    "        S.pop()"
   ]
  },
  {
   "cell_type": "code",
   "execution_count": null,
   "metadata": {},
   "outputs": [],
   "source": [
    "#A52\n",
    "from collections import deque\n",
    "\n",
    "Q = int(input())\n",
    "queries = [input().split() for _ in range(Q)]\n",
    "\n",
    "S = deque()\n",
    "\n",
    "for q in queries:\n",
    "    if q[0] == '1':\n",
    "        S.append(q[1])\n",
    "    elif q[0] == '2':\n",
    "        print(S[0])\n",
    "    elif q[0] == '3':\n",
    "        S.popleft()"
   ]
  },
  {
   "cell_type": "code",
   "execution_count": null,
   "metadata": {},
   "outputs": [],
   "source": [
    "#A53\n",
    "import heapq\n",
    "\n",
    "Q = int(input())\n",
    "queries = [input().split() for _ in range(Q)]\n",
    "\n",
    "T = []\n",
    "for q in queries:\n",
    "    if q[0] == '1':\n",
    "        heapq.heappush(T, int(q[1]))\n",
    "    if q[0] == '2':\n",
    "        print(T[0])\n",
    "    if q[0] == '3':\n",
    "        heapq.heappop(T)\n",
    "        \n",
    "print(T)"
   ]
  }
 ],
 "metadata": {
  "kernelspec": {
   "display_name": "Python 3.9.13 ('base')",
   "language": "python",
   "name": "python3"
  },
  "language_info": {
   "name": "python",
   "version": "3.9.13"
  },
  "orig_nbformat": 4,
  "vscode": {
   "interpreter": {
    "hash": "40d3a090f54c6569ab1632332b64b2c03c39dcf918b08424e98f38b5ae0af88f"
   }
  }
 },
 "nbformat": 4,
 "nbformat_minor": 2
}
