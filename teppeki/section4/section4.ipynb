{
 "cells": [
  {
   "cell_type": "code",
   "execution_count": null,
   "metadata": {},
   "outputs": [],
   "source": [
    "#A16\n",
    "N = int(input())\n",
    "A = list(map(int, input().split()))\n",
    "B = list(map(int, input().split()))\n",
    "\n",
    "dp = [None] * (N)\n",
    "dp[0] = 0\n",
    "dp[1] = A[0]\n",
    "\n",
    "for i in range(2, N):\n",
    "    dp[i] = min(dp[i - 1] + A[i - 1], dp[i - 2] +  B[i - 2])\n",
    "\n",
    "print(dp[-1])"
   ]
  },
  {
   "cell_type": "code",
   "execution_count": null,
   "metadata": {},
   "outputs": [],
   "source": [
    "#A17\n",
    "N = int(input())\n",
    "A = list(map(int, input().split()))\n",
    "B = list(map(int, input().split()))\n",
    "\n",
    "dp = [None] * (N)\n",
    "dp[0] = 0\n",
    "dp[1] = A[0]\n",
    "\n",
    "for i in range(2, N):\n",
    "    dp[i] = min(dp[i - 1] + A[i - 1], dp[i - 2] +  B[i - 2])\n",
    "\n",
    "ans = []\n",
    "place = N - 1\n",
    "\n",
    "while True:\n",
    "    ans.append(place + 1)\n",
    "    if place == 0:\n",
    "        break\n",
    "    \n",
    "    if dp[place - 1] + A[place - 1] == dp[place]:\n",
    "        place -= 1\n",
    "        \n",
    "    else:\n",
    "        place -= 2\n",
    "        \n",
    "ans.reverse()\n",
    "print(len(ans))\n",
    "print(*ans)"
   ]
  },
  {
   "cell_type": "code",
   "execution_count": null,
   "metadata": {},
   "outputs": [],
   "source": [
    "#A18\n",
    "N, S = map(int, input().split())\n",
    "A = list(map(int, input().split()))\n",
    "\n",
    "dp = [[None] * (S + 1) for _ in range(N + 1)]\n",
    "\n",
    "dp[0][0] = True\n",
    "\n",
    "for i in range(1, N + 1):\n",
    "    dp[i][0] = True\n",
    "    \n",
    "for j in range(1, S + 1):\n",
    "    dp[0][j] = False\n",
    "    \n",
    "for i in range(1, N + 1):\n",
    "    for j in range(1, S + 1):\n",
    "        if dp[i - 1][j] == True:\n",
    "            dp[i][j] = True\n",
    "        elif j - A[i - 1] >= 0 and j - A[i - 1] <= S and dp[i - 1][j - A[i - 1]] == True:\n",
    "            dp[i][j] = True\n",
    "        else:\n",
    "            dp[i][j] = False\n",
    "            \n",
    "print('Yes') if dp[-1][-1] else print('No')"
   ]
  },
  {
   "cell_type": "code",
   "execution_count": null,
   "metadata": {},
   "outputs": [],
   "source": [
    "#A19\n",
    "N, W = map(int, input().split())\n",
    "w = [None] * N\n",
    "v = [None] * N\n",
    "\n",
    "for i in range(N):\n",
    "    w[i], v[i] = map(int, input().split())\n",
    "\n",
    "dp = [[0] * (W + 1) for _ in range(N + 1)]\n",
    "dp[0][0] = 0\n",
    "\n",
    "for i in range(1, N + 1):\n",
    "    for j in range(W + 1):\n",
    "        if j < w[i - 1]:\n",
    "            dp[i][j] = dp[i - 1][j]\n",
    "            \n",
    "        if j >= w[i - 1]:\n",
    "            dp[i][j] = max(dp[i - 1][j], dp[i - 1][j - w[i - 1]] + v[i - 1])\n",
    "\n",
    "print(max(dp[N]))\n"
   ]
  },
  {
   "cell_type": "code",
   "execution_count": null,
   "metadata": {},
   "outputs": [],
   "source": [
    "#A20\n"
   ]
  },
  {
   "cell_type": "code",
   "execution_count": null,
   "metadata": {},
   "outputs": [],
   "source": [
    "#A21"
   ]
  },
  {
   "cell_type": "code",
   "execution_count": null,
   "metadata": {},
   "outputs": [],
   "source": [
    "#A22"
   ]
  },
  {
   "cell_type": "code",
   "execution_count": null,
   "metadata": {},
   "outputs": [],
   "source": [
    "#A23"
   ]
  },
  {
   "cell_type": "code",
   "execution_count": null,
   "metadata": {},
   "outputs": [],
   "source": [
    "#A24"
   ]
  },
  {
   "cell_type": "code",
   "execution_count": null,
   "metadata": {},
   "outputs": [],
   "source": [
    "#A25"
   ]
  }
 ],
 "metadata": {
  "kernelspec": {
   "display_name": "Python 3.9.13 ('base')",
   "language": "python",
   "name": "python3"
  },
  "language_info": {
   "name": "python",
   "version": "3.9.13"
  },
  "orig_nbformat": 4,
  "vscode": {
   "interpreter": {
    "hash": "40d3a090f54c6569ab1632332b64b2c03c39dcf918b08424e98f38b5ae0af88f"
   }
  }
 },
 "nbformat": 4,
 "nbformat_minor": 2
}
