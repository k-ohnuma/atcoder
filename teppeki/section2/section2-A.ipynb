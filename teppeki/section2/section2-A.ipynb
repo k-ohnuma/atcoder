{
 "cells": [
  {
   "cell_type": "code",
   "execution_count": 4,
   "metadata": {},
   "outputs": [
    {
     "name": "stdout",
     "output_type": "stream",
     "text": [
      "15\n",
      "24\n",
      "1123\n",
      "111\n",
      "11137\n"
     ]
    }
   ],
   "source": [
    "#A06\n",
    "N, Q = map(int, input().split())\n",
    "A = list(map(int, input().split()))\n",
    "L = [0] * Q\n",
    "R = [0] * Q\n",
    "for i in range(Q):\n",
    "    L[i], R[i] = map(int, input().split())\n",
    "    \n",
    "#累積和\n",
    "sum = 0\n",
    "sum_list = []\n",
    "for i in range(N):\n",
    "    sum += A[i]\n",
    "    sum_list.append(sum)\n",
    "    \n",
    "sum_list = [0] + sum_list\n",
    "for j in range(Q):\n",
    "    ans = sum_list[R[j]] - sum_list[L[j] - 1]\n",
    "    print(ans)    "
   ]
  },
  {
   "cell_type": "code",
   "execution_count": null,
   "metadata": {},
   "outputs": [],
   "source": [
    "#A07\n",
    "D = int(input())\n",
    "N = int(input())\n",
    "\n",
    "LR_list = []\n",
    "\n",
    "for _ in range(N):\n",
    "    LR = list(map(int, input().split()))\n",
    "    LR_list.append(LR)\n",
    "    \n",
    "attend_list = [0] * (D + 1)\n",
    "\n",
    "for LR in LR_list:\n",
    "    L, R = LR\n",
    "    attend_list[L - 1] += 1\n",
    "    attend_list[R] -= 1\n",
    "    \n",
    "sum = 0\n",
    "sum_list = []\n",
    "\n",
    "for attend in attend_list:\n",
    "    sum += attend\n",
    "    sum_list.append(sum)\n",
    "\n",
    "for s in sum_list[:-1]:\n",
    "    print(s)"
   ]
  },
  {
   "cell_type": "code",
   "execution_count": null,
   "metadata": {},
   "outputs": [],
   "source": [
    "#A08\n",
    "H, W = map(int, input().split())\n",
    "mat = []\n",
    "for _ in range(H):\n",
    "    X = list(map(int, input().split()))\n",
    "    mat.append(X)\n",
    "Q = int(input())\n",
    "ans = []\n",
    "sum_mat = [[0] * (W + 1) for _ in range(H + 1)]\n",
    "\n",
    "for i in range(1, H + 1):\n",
    "    for j in range(1, W + 1):\n",
    "        sum_mat[i][j] = sum_mat[i][j - 1] + mat[i - 1][j - 1]\n",
    "        \n",
    "for j in range(1, W + 1):\n",
    "    for i in range(1, H + 1):\n",
    "        sum_mat[i][j] = sum_mat[i - 1][j] + sum_mat[i][j]\n",
    "        \n",
    "for _ in range(Q):\n",
    "    A, B, C, D = map(int, input().split())\n",
    "    a = sum_mat[C][D] + sum_mat[A - 1][B - 1] - sum_mat[C][B - 1] - sum_mat[A - 1][D]\n",
    "    ans.append(a)\n",
    "    \n",
    "for a in ans:\n",
    "    print(a)"
   ]
  },
  {
   "cell_type": "code",
   "execution_count": null,
   "metadata": {},
   "outputs": [],
   "source": [
    "#A09\n",
    "H, W, N = map(int, input().split())\n",
    "mat = [[0] * (W + 2) for _ in range(H + 2)]\n",
    "sum_mat = [[0] * (W + 2) for _ in range(H + 2)]\n",
    "for _ in range(N):\n",
    "    A, B, C, D = map(int, input().split())\n",
    "    mat[A][B] += 1\n",
    "    mat[C + 1][D + 1] += 1\n",
    "    mat[C + 1][B] -= 1\n",
    "    mat[A][D + 1] -= 1\n",
    "    \n",
    "for i in range(1, H + 1):\n",
    "    for j in range(1, W + 1):\n",
    "        sum_mat[i][j] = sum_mat[i][j - 1] + mat[i][j]\n",
    "\n",
    "for j in range(1, W + 1):\n",
    "    for i in range(1, H + 1):\n",
    "        sum_mat[i][j] = sum_mat[i - 1][j] + sum_mat[i][j]\n",
    "        \n",
    "for ans in sum_mat[1:-1]:\n",
    "    print(*ans[1:-1])"
   ]
  },
  {
   "cell_type": "code",
   "execution_count": null,
   "metadata": {},
   "outputs": [],
   "source": [
    "N = int(input())\n",
    "A_list = list(map(int, input().split()))\n",
    "max_A = [0] * (N + 1)\n",
    "max_A_rev = [0] * (N + 1)\n",
    "for i in range(N + 1):\n",
    "    if i == 0:\n",
    "        max_A[i] = 0\n",
    "    else:\n",
    "        max_A[i] = max(max_A[i - 1], A_list[i - 1])\n",
    "        \n",
    "A_rev = A_list[::-1]\n",
    "for i in range(N + 1):\n",
    "    if i == 0:\n",
    "        max_A_rev[i] = 0\n",
    "    else:\n",
    "        max_A_rev[i] = max(max_A_rev[i - 1], A_rev[i - 1])\n",
    "        \n",
    "max_A_rev = [0] + max_A_rev[::-1]\n",
    "\n",
    "D = int(input())\n",
    "ans = []\n",
    "for _ in range(D):\n",
    "    L, R = map(int, input().split())\n",
    "    an = max(max_A[L - 1], max_A_rev[R + 1])\n",
    "    ans.append(an)\n",
    "\n",
    "for an in ans:\n",
    "    print(an)"
   ]
  }
 ],
 "metadata": {
  "kernelspec": {
   "display_name": "Python 3.9.13 ('base')",
   "language": "python",
   "name": "python3"
  },
  "language_info": {
   "codemirror_mode": {
    "name": "ipython",
    "version": 3
   },
   "file_extension": ".py",
   "mimetype": "text/x-python",
   "name": "python",
   "nbconvert_exporter": "python",
   "pygments_lexer": "ipython3",
   "version": "3.9.13"
  },
  "orig_nbformat": 4,
  "vscode": {
   "interpreter": {
    "hash": "40d3a090f54c6569ab1632332b64b2c03c39dcf918b08424e98f38b5ae0af88f"
   }
  }
 },
 "nbformat": 4,
 "nbformat_minor": 2
}
