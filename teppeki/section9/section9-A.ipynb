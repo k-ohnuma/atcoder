{
 "cells": [
  {
   "cell_type": "code",
   "execution_count": null,
   "metadata": {},
   "outputs": [],
   "source": [
    "import sys\n",
    "\n",
    "# 再帰呼び出しの深さの上限を 120000 に設定\n",
    "sys.setrecursionlimit(120000)\n",
    "\n",
    "def dfs(pos, G, visited):\n",
    "\tvisited[pos] = True\n",
    "\tfor i in G[pos]:\n",
    "\t\tif visited[i] == False:\n",
    "\t\t\tdfs(i, G, visited)\n",
    "   \n",
    "N, M = map(int, input().split())\n",
    "edges = [list(map(int, input().split())) for _ in range(M)]\n",
    "\n",
    "G = [list() for _ in range(N + 1)]\n",
    "\n",
    "for a, b in edges:\n",
    "    G[a].append(b)\n",
    "    G[b].append(a)\n",
    "\n",
    "    \n",
    "visited = [False] * (N + 1)\n",
    "\n",
    "dfs(1, G, visited)\n",
    "\n",
    "answer = True\n",
    "\n",
    "for i in range(1, N + 1):\n",
    "    if visited[i] == False:\n",
    "        answer = False\n",
    "        break\n",
    "    \n",
    "print('The graph is connected.') if answer else print('The graph is not connected.')\n",
    "\n",
    "\n"
   ]
  },
  {
   "cell_type": "code",
   "execution_count": null,
   "metadata": {},
   "outputs": [],
   "source": []
  },
  {
   "cell_type": "code",
   "execution_count": null,
   "metadata": {},
   "outputs": [],
   "source": []
  },
  {
   "cell_type": "code",
   "execution_count": null,
   "metadata": {},
   "outputs": [],
   "source": []
  }
 ],
 "metadata": {
  "kernelspec": {
   "display_name": "Python 3.9.13 ('base')",
   "language": "python",
   "name": "python3"
  },
  "language_info": {
   "name": "python",
   "version": "3.9.13"
  },
  "orig_nbformat": 4,
  "vscode": {
   "interpreter": {
    "hash": "40d3a090f54c6569ab1632332b64b2c03c39dcf918b08424e98f38b5ae0af88f"
   }
  }
 },
 "nbformat": 4,
 "nbformat_minor": 2
}
