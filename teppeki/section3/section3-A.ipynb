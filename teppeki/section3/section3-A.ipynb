{
 "cells": [
  {
   "cell_type": "code",
   "execution_count": null,
   "metadata": {},
   "outputs": [],
   "source": [
    "#A11\n",
    "import bisect\n",
    "N, X = map(int, input().split())\n",
    "A = list(map(int, input().split()))\n",
    "num = bisect.bisect_left(A, X)\n",
    "print(num + 1)"
   ]
  },
  {
   "cell_type": "code",
   "execution_count": null,
   "metadata": {},
   "outputs": [],
   "source": [
    "#A12\n",
    "N, K = map(int, input().split())\n",
    "A = list(map(int, input().split()))\n",
    "\n",
    "tm = 1e9\n",
    "\n",
    "L = 1\n",
    "R = tm\n",
    "\n",
    "while L < R:\n",
    "    M = (L + R) // 2\n",
    "    tmp = 0\n",
    "    for i in range(N):\n",
    "        tmp += M // A[i]\n",
    "        \n",
    "    if tmp < K:\n",
    "        L = M + 1\n",
    "    if tmp >= K:\n",
    "        R = M\n",
    "        \n",
    "print(int(R))"
   ]
  },
  {
   "cell_type": "code",
   "execution_count": null,
   "metadata": {},
   "outputs": [],
   "source": [
    "#A13\n",
    "N, K = map(int, input().split())\n",
    "A = list(map(int, input().split()))\n",
    "ans = 0\n",
    "R = [0] * (N - 1) \n",
    "\n",
    "for start in range(N - 1):\n",
    "    if start >= 1:\n",
    "        R[start] = R[start - 1]\n",
    "    while R[start] < N - 1 and A[R[start] + 1] - A[start] <= K:\n",
    "            R[start] += 1\n",
    "\n",
    "ans = 0\n",
    "\n",
    "for i in range(N - 1):\n",
    "    ans += (R[i] - i)\n",
    "                 \n",
    "print(ans)"
   ]
  },
  {
   "cell_type": "code",
   "execution_count": null,
   "metadata": {},
   "outputs": [],
   "source": [
    "#A14\n",
    "import bisect\n",
    "import sys\n",
    "N, K = map(int, input().split())\n",
    "A = list(map(int, input().split()))\n",
    "B = list(map(int, input().split()))\n",
    "C = list(map(int, input().split()))\n",
    "D = list(map(int, input().split()))\n",
    "\n",
    "AB = []\n",
    "CD = []\n",
    "\n",
    "for A_value in A:\n",
    "    for B_value in B:\n",
    "        num = A_value + B_value\n",
    "        AB.append(num)\n",
    "\n",
    "for C_value in C:\n",
    "    for D_value in D:\n",
    "        num = C_value + D_value\n",
    "        CD.append(num)\n",
    "\n",
    "CD.sort()\n",
    "\n",
    "for AB_value in AB:\n",
    "    num = K - AB_value\n",
    "    idx = bisect.bisect_left(CD, num)\n",
    "    if idx < N * N and CD[idx] == num:\n",
    "        print('Yes')\n",
    "        sys.exit()\n",
    "        \n",
    "print('No')\n"
   ]
  },
  {
   "cell_type": "code",
   "execution_count": null,
   "metadata": {},
   "outputs": [],
   "source": [
    "#A15\n",
    "import bisect\n",
    "N = int(input())\n",
    "A = list(map(int, input().split()))\n",
    "\n",
    "seted_A = list(set(A))\n",
    "seted_A.sort()\n",
    "\n",
    "ans = []\n",
    "for A_v in A:\n",
    "    num = bisect.bisect_left(seted_A, A_v)\n",
    "    ans.append(num + 1)\n",
    "    \n",
    "print(*ans)\n"
   ]
  }
 ],
 "metadata": {
  "kernelspec": {
   "display_name": "Python 3.9.13 ('base')",
   "language": "python",
   "name": "python3"
  },
  "language_info": {
   "name": "python",
   "version": "3.9.13"
  },
  "orig_nbformat": 4,
  "vscode": {
   "interpreter": {
    "hash": "40d3a090f54c6569ab1632332b64b2c03c39dcf918b08424e98f38b5ae0af88f"
   }
  }
 },
 "nbformat": 4,
 "nbformat_minor": 2
}
